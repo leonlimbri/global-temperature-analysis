{
 "cells": [
  {
   "cell_type": "markdown",
   "id": "b5651027-e0a7-4962-bf1d-6449faa73c2e",
   "metadata": {},
   "source": [
    "## Global Temperature Analysis\n",
    "This analysis is done to understand the existent of climate change and also creating an ARIMA (Autoregresive Integrated Moving Average) model to forecast the differences of temperature (in Celcius) over the period of time."
   ]
  },
  {
   "cell_type": "markdown",
   "id": "2139bc25-041a-48ef-9f3a-00fedfcc0955",
   "metadata": {},
   "source": [
    "### Data Information\n",
    "There are two sources, `GCAG`: The global component of Climate at a Glance, and `GISTEMP`: The NASA GISS Surface Temperature. The data includes monthly data of average global mean temperature anomalies (differences) in degrees Celsius relative to a base period. `GISTEMP` base period: 1951-1980. `GCAG` base period: 20th century average.\n",
    "\n",
    "Link to dataset: https://datahub.io/core/global-temp#r\n",
    "\n",
    "---"
   ]
  },
  {
   "cell_type": "markdown",
   "id": "19aa4994-17a0-4c7f-a120-e593e773ba86",
   "metadata": {},
   "source": [
    "### Preprocessor\n",
    "Importing packages, setting up global variables as well as helper functions."
   ]
  },
  {
   "cell_type": "code",
   "execution_count": 1,
   "id": "52f6119d-5f59-4916-9294-e032aefda61b",
   "metadata": {},
   "outputs": [],
   "source": [
    "# Packages loaded\n",
    "import pandas as pd\n",
    "import numpy as np\n",
    "import matplotlib.pyplot as plt\n",
    "import datetime \n",
    "\n",
    "from statsmodels.graphics.tsaplots import plot_acf, plot_pacf \n",
    "from statsmodels.tsa.stattools import adfuller\n",
    "from statsmodels.tsa.arima.model import ARIMA"
   ]
  },
  {
   "cell_type": "code",
   "execution_count": 53,
   "id": "dfad1cf8-f420-4a35-9890-db5188fd1bf9",
   "metadata": {},
   "outputs": [],
   "source": [
    "# Set a global variables here\n",
    "# SOURCES   : The available source in the dataset\n",
    "# THRESHOLD : p-value threshold for the Augmented Dickey-Fuller test\n",
    "SOURCES    = ['GCAG', 'GISTEMP']\n",
    "THERESHOLD = 0.05\n",
    "MONTHS_IN_YEAR = 12\n",
    "MAX_YEAR = 2016\n",
    "MIN_YEAR = 1880\n",
    "MONTHS_FIRST_YEAR = 6\n",
    "\n",
    "# Pull the dataset\n",
    "url = 'https://datahub.io/core/global-temp/r/monthly.csv'\n",
    "raw = pd.read_csv(url)"
   ]
  },
  {
   "cell_type": "code",
   "execution_count": 3,
   "id": "1b623158-96da-427c-8078-773cd214fad5",
   "metadata": {},
   "outputs": [],
   "source": [
    "# Helper Functions\n",
    "def preprocess(raw, source = 'GCAG'):\n",
    "    '''\n",
    "        Preprocess raw data, by first filtering the data based on the source, then\n",
    "        change the data type of the date to datetime, and finally sort the mean\n",
    "        temperature from the earliest date to the latest date and setting date as\n",
    "        the index.\n",
    "    \n",
    "        Parameters\n",
    "        -----\n",
    "        raw: pd.DataFrame\n",
    "            Raw dataset to be downloaded\n",
    "        source: String\n",
    "            A string of source to be filtered, see Dataset Information\n",
    "        \n",
    "        Output: pd.DataFrame\n",
    "            Dataset after preprocessing.\n",
    "    '''\n",
    "    assert source in SOURCES, f\"Sources must be one of {SOURCES}\"\n",
    "    data = raw[raw.Source == source].reset_index(drop = True).drop(['Source'], axis = 1)\n",
    "    data.Date = pd.to_datetime(data.Date)\n",
    "    data.sort_values(by = 'Date', inplace = True)\n",
    "    data.set_index('Date', inplace = True)\n",
    "    return data\n",
    "\n",
    "def create_date_index(start, end, n_years):\n",
    "    '''\n",
    "        Create a date index using the extra number of years. Given that the date index\n",
    "        is in monthly frequencies.\n",
    "        \n",
    "        Parameters\n",
    "        ----------\n",
    "        start: pd.Timestamp\n",
    "            Start date\n",
    "        end: pd.Timestamp\n",
    "            End date\n",
    "        n_years: int\n",
    "            Number of years to be added\n",
    "        \n",
    "        Output: pd.date_range\n",
    "            A pandas series of date ranges.\n",
    "    '''\n",
    "    day_offset = start.day - 1\n",
    "    mth_offset = n_years * MONTHS_IN_YEAR\n",
    "    start_date = start - pd.DateOffset(days = day_offset)\n",
    "    end_date   = end + pd.DateOffset(months = mth_offset)\n",
    "    return pd.date_range(start_date, end_date, freq = 'MS') + pd.DateOffset(days = day_offset)"
   ]
  },
  {
   "cell_type": "code",
   "execution_count": 4,
   "id": "00efa1dc-17b1-4617-b4ac-83960c6b26c4",
   "metadata": {},
   "outputs": [],
   "source": [
    "df = preprocess(raw, SOURCES[0])"
   ]
  },
  {
   "cell_type": "code",
   "execution_count": 51,
   "id": "b53b35ba-260b-4c18-8a60-59c58e304b66",
   "metadata": {},
   "outputs": [
    {
     "name": "stdout",
     "output_type": "stream",
     "text": [
      "1880-01-06 00:00:00 2016-12-06 00:00:00\n"
     ]
    }
   ],
   "source": [
    "print(min(df.index), max(df.index))"
   ]
  },
  {
   "cell_type": "code",
   "execution_count": 61,
   "id": "579667a5-efbf-41cc-b249-6f0d1139eb75",
   "metadata": {},
   "outputs": [],
   "source": [
    "n_months_train = (MAX_YEAR - MIN_YEAR) * MONTHS_IN_YEAR \n",
    "train, test = df[:n_months_train], df[n_months_train:]"
   ]
  },
  {
   "cell_type": "markdown",
   "id": "942fd815-c43b-4adf-b99e-14206a8860d1",
   "metadata": {},
   "source": [
    "---\n",
    "### Motivation of Analysis\n",
    "Climate Change is one of the biggest threats facing humanity, causing global temperatures to rise, leading to more frequent and severe natural disasters, and posing a risk to the health and livelihoods of billions of people. This analysis on Global Temperature will able to answer two things, showing that there is an increase of Global Temperature over time and building ARIMA model to predict the temperature delta (differences) with the base period set by the data.\n",
    "\n",
    "As the dataset includes data until the year 2016, assumes to use the first year until 2015 and use the data on year 2016 as a test dataset."
   ]
  },
  {
   "cell_type": "markdown",
   "id": "d4f24c1b-3ff6-4f12-a4d8-84754c5face2",
   "metadata": {},
   "source": [
    "#### Why use ARIMA Models\n",
    "ARIMA models are suitable for this data because the dataset includes a very long historical data of global temperature, additionally the dataset shows a clear trend or seasonality (as temperature changes fairly affected by the change in seasons). Additionally, it needs to be tested whether the dataset is stationary over time (to check this, we have used Augmented Dickey-Fuller test)."
   ]
  },
  {
   "cell_type": "code",
   "execution_count": 63,
   "id": "fc527a9b-bbdd-4c7a-9d3e-5cc7ab33d1a9",
   "metadata": {},
   "outputs": [
    {
     "name": "stdout",
     "output_type": "stream",
     "text": [
      "[d: 0, p-values: 0.9319577444920966]\n",
      "[d: 1, p-values: 1.3446815261401466e-21]\n",
      "[d: 2, p-values: 3.7730516479816663e-29]\n",
      "[d: 3, p-values: 5.755479695778441e-30]\n",
      "[d: 4, p-values: 0.0]\n",
      "[d: 5, p-values: 0.0]\n"
     ]
    }
   ],
   "source": [
    "# Candidate 'd'\n",
    "d_pvals, df_for_pvals = [], []\n",
    "d_candidates = [0, 1, 2, 3, 4, 5]\n",
    "train_for_pval  = train.copy().Mean\n",
    "\n",
    "for d_cand in d_candidates:\n",
    "    df_for_pvals.append(train_for_pval)\n",
    "    pval_for_d  = adfuller(train_for_pval)[1]\n",
    "    train_for_pval = train_for_pval.diff().dropna()\n",
    "    d_pvals.append(pval_for_d)\n",
    "    \n",
    "for (d, d_pval) in zip(d_candidates, d_pvals): print(f\"[d: {d}, p-values: {d_pval}]\")"
   ]
  },
  {
   "cell_type": "markdown",
   "id": "a8bb359d-9394-4153-9f99-80ae2c96a46a",
   "metadata": {},
   "source": [
    "The ADF test aims to reject the null hypothesis that the given time-series data is non-stationary. It calculates the p-value and compares it with a threshold value or significance level of 0.05. If the p-value is less than this level, then the data is stationary; else, the differencing order is incremented by one. From the above, we able to see that at `d=1`, p-values are close to the threshold of 0.05, which then enables us to plot the ACF plot to see whether the data is stationary as it suggested."
   ]
  },
  {
   "cell_type": "code",
   "execution_count": 76,
   "id": "5decaa96-ea9d-4600-817d-28a0726921ae",
   "metadata": {},
   "outputs": [
    {
     "data": {
      "image/png": "[encoded data removed]",
      "text/plain": [
       "<Figure size 432x288 with 1 Axes>"
      ]
     },
     "metadata": {
      "needs_background": "light"
     },
     "output_type": "display_data"
    }
   ],
   "source": [
    "d = 1\n",
    "acf_plot = plot_acf(df_for_pvals[d])"
   ]
  },
  {
   "cell_type": "markdown",
   "id": "dcc6eccb-9ec3-4a3f-bd11-f8ebb8196c9e",
   "metadata": {},
   "source": [
    "From the above, first lag is the most significant, thus `p = 1`, `q` can be estimated similarly by looking at the ACF plot as the number of lags crossing the threshold which can determine how much of the past would be significant enough to consider for the future. i.e., `q = 2`."
   ]
  },
  {
   "cell_type": "code",
   "execution_count": 77,
   "id": "72eb29a3-76f7-4809-a751-56566459a140",
   "metadata": {},
   "outputs": [],
   "source": [
    "p, q = 1, 2"
   ]
  },
  {
   "cell_type": "code",
   "execution_count": 84,
   "id": "8f1fd205-c6f8-42dc-ab10-cc8faa2ebe9b",
   "metadata": {},
   "outputs": [
    {
     "name": "stderr",
     "output_type": "stream",
     "text": [
      "C:\\Users\\leonl\\AppData\\Local\\Programs\\Python\\Python39\\lib\\site-packages\\statsmodels\\tsa\\base\\tsa_model.py:471: ValueWarning: A date index has been provided, but it has no associated frequency information and so will be ignored when e.g. forecasting.\n",
      "  self._init_dates(dates, freq)\n",
      "C:\\Users\\leonl\\AppData\\Local\\Programs\\Python\\Python39\\lib\\site-packages\\statsmodels\\tsa\\base\\tsa_model.py:471: ValueWarning: A date index has been provided, but it has no associated frequency information and so will be ignored when e.g. forecasting.\n",
      "  self._init_dates(dates, freq)\n",
      "C:\\Users\\leonl\\AppData\\Local\\Programs\\Python\\Python39\\lib\\site-packages\\statsmodels\\tsa\\base\\tsa_model.py:471: ValueWarning: A date index has been provided, but it has no associated frequency information and so will be ignored when e.g. forecasting.\n",
      "  self._init_dates(dates, freq)\n"
     ]
    },
    {
     "name": "stdout",
     "output_type": "stream",
     "text": [
      "                               SARIMAX Results                                \n",
      "==============================================================================\n",
      "Dep. Variable:                   Mean   No. Observations:                 1632\n",
      "Model:                 ARIMA(1, 1, 2)   Log Likelihood                1547.444\n",
      "Date:                Wed, 08 Feb 2023   AIC                          -3086.889\n",
      "Time:                        02:15:53   BIC                          -3065.301\n",
      "Sample:                             0   HQIC                         -3078.880\n",
      "                               - 1632                                         \n",
      "Covariance Type:                  opg                                         \n",
      "==============================================================================\n",
      "                 coef    std err          z      P>|z|      [0.025      0.975]\n",
      "------------------------------------------------------------------------------\n",
      "ar.L1          0.8585      0.029     29.778      0.000       0.802       0.915\n",
      "ma.L1         -1.3516      0.038    -35.129      0.000      -1.427      -1.276\n",
      "ma.L2          0.3723      0.034     11.043      0.000       0.306       0.438\n",
      "sigma2         0.0088      0.000     36.847      0.000       0.008       0.009\n",
      "===================================================================================\n",
      "Ljung-Box (L1) (Q):                   0.20   Jarque-Bera (JB):               131.18\n",
      "Prob(Q):                              0.65   Prob(JB):                         0.00\n",
      "Heteroskedasticity (H):               0.90   Skew:                            -0.07\n",
      "Prob(H) (two-sided):                  0.23   Kurtosis:                         4.38\n",
      "===================================================================================\n",
      "\n",
      "Warnings:\n",
      "[1] Covariance matrix calculated using the outer product of gradients (complex-step).\n"
     ]
    },
    {
     "name": "stderr",
     "output_type": "stream",
     "text": [
      "C:\\Users\\leonl\\AppData\\Local\\Programs\\Python\\Python39\\lib\\site-packages\\statsmodels\\tsa\\base\\tsa_model.py:834: ValueWarning: No supported index is available. Prediction results will be given with an integer index beginning at `start`.\n",
      "  return get_prediction_index(\n"
     ]
    }
   ],
   "source": [
    "# Generate model\n",
    "arima_model = ARIMA(train, order = (p, d, q))\n",
    "model       = arima_model.fit()\n",
    "fitted      = model.forecast(39).reset_index(drop=True)\n",
    "print(model.summary())"
   ]
  },
  {
   "cell_type": "code",
   "execution_count": 79,
   "id": "184abbff-094e-4e96-b828-e25213f07d98",
   "metadata": {},
   "outputs": [],
   "source": [
    "# Build prediction dataset\n",
    "predicted = pd.DataFrame({'Mean': model.predict()}, index = df.index)"
   ]
  },
  {
   "cell_type": "code",
   "execution_count": 80,
   "id": "c17bd1a1-25ec-4e89-aa3f-086e349b1d25",
   "metadata": {},
   "outputs": [
    {
     "data": {
      "text/plain": [
       "<matplotlib.legend.Legend at 0x21ba2c7ab50>"
      ]
     },
     "execution_count": 80,
     "metadata": {},
     "output_type": "execute_result"
    },
    {
     "data": {
      "image/png": "[encoded data removed]",
      "text/plain": [
       "<Figure size 432x288 with 1 Axes>"
      ]
     },
     "metadata": {
      "needs_background": "light"
     },
     "output_type": "display_data"
    }
   ],
   "source": [
    "plt.plot(df, label = 'True Values')\n",
    "plt.plot(predicted, label = 'Prediction')\n",
    "plt.legend()"
   ]
  },
  {
   "cell_type": "markdown",
   "id": "38009aa7-ffc1-4211-8370-1b1d2715be28",
   "metadata": {},
   "source": [
    "#### Inferences\n",
    "Building prediction of the temperature anomalies based on the base period over the next 1 year, as the data included are monthly data, then needs to predict further `12` data points."
   ]
  },
  {
   "cell_type": "code",
   "execution_count": 91,
   "id": "e0564c5f-b515-45bd-80c2-9fe7c2babfdd",
   "metadata": {},
   "outputs": [
    {
     "name": "stderr",
     "output_type": "stream",
     "text": [
      "C:\\Users\\leonl\\AppData\\Local\\Programs\\Python\\Python39\\lib\\site-packages\\statsmodels\\tsa\\base\\tsa_model.py:834: ValueWarning: No supported index is available. Prediction results will be given with an integer index beginning at `start`.\n",
      "  return get_prediction_index(\n"
     ]
    }
   ],
   "source": [
    "n_year = 1\n",
    "future_pred = pd.DataFrame({'Mean': model.forecast(n_year * MONTHS_IN_YEAR)})\n",
    "future_pred.set_index(create_date_index(max(train.index) + pd.DateOffset(months = 1), max(train.index), n_year), inplace = True)"
   ]
  },
  {
   "cell_type": "code",
   "execution_count": 97,
   "id": "d8659ec8-501e-4420-872e-06d72c1305fb",
   "metadata": {},
   "outputs": [
    {
     "data": {
      "text/plain": [
       "<matplotlib.collections.PolyCollection at 0x21ba2e6a9a0>"
      ]
     },
     "execution_count": 97,
     "metadata": {},
     "output_type": "execute_result"
    },
    {
     "data": {
      "image/png": "[encoded data removed]",
      "text/plain": [
       "<Figure size 432x288 with 1 Axes>"
      ]
     },
     "metadata": {
      "needs_background": "light"
     },
     "output_type": "display_data"
    }
   ],
   "source": [
    "future_pred_ci = 1.96 * np.std(train)/np.sqrt(len(future_pred))\n",
    "fig, ax = plt.subplots()\n",
    "ax.set_title('Prediction of weather over the year 2016')\n",
    "ax.plot(future_pred)\n",
    "ax.plot(test)\n",
    "ax.fill_between(future_pred.index, future_pred.Mean - future_pred_ci.Mean, future_pred.Mean + future_pred_ci.Mean, color = 'b', alpha = .1)"
   ]
  },
  {
   "cell_type": "markdown",
   "id": "54e9cf98-fa23-455a-bd0a-671a488dc63b",
   "metadata": {},
   "source": [
    "#### Conclusion\n",
    "As seen from the data above, the weather in 2016 falls between the confidence interval of the prediction of this model."
   ]
  }
 ],
 "metadata": {
  "kernelspec": {
   "display_name": "Python 3 (ipykernel)",
   "language": "python",
   "name": "python3"
  },
  "language_info": {
   "codemirror_mode": {
    "name": "ipython",
    "version": 3
   },
   "file_extension": ".py",
   "mimetype": "text/x-python",
   "name": "python",
   "nbconvert_exporter": "python",
   "pygments_lexer": "ipython3",
   "version": "3.9.6"
  }
 },
 "nbformat": 4,
 "nbformat_minor": 5
}
